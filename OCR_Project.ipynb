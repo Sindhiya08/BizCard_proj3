{
  "nbformat": 4,
  "nbformat_minor": 0,
  "metadata": {
    "colab": {
      "provenance": []
    },
    "kernelspec": {
      "name": "python3",
      "display_name": "Python 3"
    },
    "language_info": {
      "name": "python"
    }
  },
  "cells": [
    {
      "cell_type": "code",
      "execution_count": 11,
      "metadata": {
        "id": "tel54kxpKCR4"
      },
      "outputs": [],
      "source": [
        "import streamlit as st\n",
        "import pandas as pd\n",
        "import easyocr as ocr\n",
        "from PIL import Image\n",
        "import numpy as np\n",
        "import sqlite3\n",
        "\n",
        "db = sqlite3.connect(\"OCR.db\")\n",
        "cur = db.cursor()\n",
        "cur.execute(\"CREATE TABLE IF NOT EXISTS Data (id INTEGER PRIMARY KEY AUTOINCREMENT, image BLOB, text_data VARCHAR(255))\")\n",
        "\n",
        "st.title(\"Business Card Extraction using OCR\")\n",
        "img = st.file_uploader(label=\"Upload Your Image\", type=(\"jpg\", \"png\", \"jpeg\"), accept_multiple_files=True)\n",
        "\n",
        "if img:\n",
        "    @st.cache_data\n",
        "    def load():\n",
        "        reader = ocr.Reader(['en'], gpu=True)\n",
        "        return reader\n",
        "\n",
        "    reader = load()\n",
        "\n",
        "    if img is not None:\n",
        "        for i in img:\n",
        "            input = Image.open(i)\n",
        "            st.image(i, caption='Uploaded Image', use_column_width='auto')\n",
        "            res = reader.readtext(np.array(input))\n",
        "            st.subheader(\"Extracted Data\")\n",
        "            data = []\n",
        "            for text in res:\n",
        "                data.append({'Text': text[1]})\n",
        "            df = pd.DataFrame(data)\n",
        "            st.experimental_show(df)\n",
        "            st.success(\"Successfully extracted the text data from the business card image\", icon=\"✅\")\n",
        "\n",
        "            store = st.button(\"Click here to save the data\")\n",
        "            if store:\n",
        "                try:\n",
        "                    ins_query = \"INSERT INTO Data (image, text_data) VALUES (?, ?)\"\n",
        "                    val = (sqlite3.Binary(input.tobytes()), text[1])\n",
        "                    cur.execute(ins_query, val)\n",
        "                    st.info(\"Data stored successfully\")\n",
        "                except Exception as e:\n",
        "                    st.error(f\"An error occurred while storing the data: {e}\")\n",
        "\n",
        "            update = st.button(\"Click here to update the data\")\n",
        "            if update:\n",
        "                row_id = st.text_input(\"Enter the ID of the row to be updated:\")\n",
        "                new_text_data = st.text_input(\"Enter the new value of the text_data column:\")\n",
        "                cur.execute(\"UPDATE Data SET text_data = ? WHERE id = ?\", (new_text_data, row_id))\n",
        "                st.info(\"Updated successfully\")\n",
        "\n",
        "            delete = st.button(\"Click here to delete the data stored\")\n",
        "            if delete:\n",
        "                cur.execute(\"DELETE FROM Data\")\n",
        "                st.info(\"Deleted successfully\")\n"
      ]
    }
  ]
}